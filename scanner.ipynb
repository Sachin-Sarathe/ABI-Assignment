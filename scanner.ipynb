{
 "cells": [
  {
   "cell_type": "code",
   "execution_count": 37,
   "metadata": {},
   "outputs": [],
   "source": [
    "import pandas as pd\n",
    "import numpy as np\n",
    "from concurrent.futures import ThreadPoolExecutor,as_completed, wait# For Multiprocessing\n"
   ]
  },
  {
   "cell_type": "code",
   "execution_count": 13,
   "metadata": {},
   "outputs": [],
   "source": [
    "df_scanner = pd.read_csv(r\"./scanner_data/scanner_data.csv\")\n"
   ]
  },
  {
   "cell_type": "code",
   "execution_count": 14,
   "metadata": {},
   "outputs": [
    {
     "data": {
      "text/html": [
       "<div>\n",
       "<style scoped>\n",
       "    .dataframe tbody tr th:only-of-type {\n",
       "        vertical-align: middle;\n",
       "    }\n",
       "\n",
       "    .dataframe tbody tr th {\n",
       "        vertical-align: top;\n",
       "    }\n",
       "\n",
       "    .dataframe thead th {\n",
       "        text-align: right;\n",
       "    }\n",
       "</style>\n",
       "<table border=\"1\" class=\"dataframe\">\n",
       "  <thead>\n",
       "    <tr style=\"text-align: right;\">\n",
       "      <th></th>\n",
       "      <th>Unnamed: 0</th>\n",
       "      <th>Date</th>\n",
       "      <th>Customer_ID</th>\n",
       "      <th>Transaction_ID</th>\n",
       "      <th>SKU_Category</th>\n",
       "      <th>SKU</th>\n",
       "      <th>Quantity</th>\n",
       "      <th>Sales_Amount</th>\n",
       "    </tr>\n",
       "  </thead>\n",
       "  <tbody>\n",
       "    <tr>\n",
       "      <th>0</th>\n",
       "      <td>1</td>\n",
       "      <td>02/01/2016</td>\n",
       "      <td>2547</td>\n",
       "      <td>1</td>\n",
       "      <td>X52</td>\n",
       "      <td>0EM7L</td>\n",
       "      <td>1.0</td>\n",
       "      <td>3.13</td>\n",
       "    </tr>\n",
       "    <tr>\n",
       "      <th>1</th>\n",
       "      <td>2</td>\n",
       "      <td>02/01/2016</td>\n",
       "      <td>822</td>\n",
       "      <td>2</td>\n",
       "      <td>2ML</td>\n",
       "      <td>68BRQ</td>\n",
       "      <td>1.0</td>\n",
       "      <td>5.46</td>\n",
       "    </tr>\n",
       "    <tr>\n",
       "      <th>2</th>\n",
       "      <td>3</td>\n",
       "      <td>02/01/2016</td>\n",
       "      <td>3686</td>\n",
       "      <td>3</td>\n",
       "      <td>0H2</td>\n",
       "      <td>CZUZX</td>\n",
       "      <td>1.0</td>\n",
       "      <td>6.35</td>\n",
       "    </tr>\n",
       "    <tr>\n",
       "      <th>3</th>\n",
       "      <td>4</td>\n",
       "      <td>02/01/2016</td>\n",
       "      <td>3719</td>\n",
       "      <td>4</td>\n",
       "      <td>0H2</td>\n",
       "      <td>549KK</td>\n",
       "      <td>1.0</td>\n",
       "      <td>5.59</td>\n",
       "    </tr>\n",
       "    <tr>\n",
       "      <th>4</th>\n",
       "      <td>5</td>\n",
       "      <td>02/01/2016</td>\n",
       "      <td>9200</td>\n",
       "      <td>5</td>\n",
       "      <td>0H2</td>\n",
       "      <td>K8EHH</td>\n",
       "      <td>1.0</td>\n",
       "      <td>6.88</td>\n",
       "    </tr>\n",
       "  </tbody>\n",
       "</table>\n",
       "</div>"
      ],
      "text/plain": [
       "   Unnamed: 0        Date  Customer_ID  Transaction_ID SKU_Category    SKU  \\\n",
       "0           1  02/01/2016         2547               1          X52  0EM7L   \n",
       "1           2  02/01/2016          822               2          2ML  68BRQ   \n",
       "2           3  02/01/2016         3686               3          0H2  CZUZX   \n",
       "3           4  02/01/2016         3719               4          0H2  549KK   \n",
       "4           5  02/01/2016         9200               5          0H2  K8EHH   \n",
       "\n",
       "   Quantity  Sales_Amount  \n",
       "0       1.0          3.13  \n",
       "1       1.0          5.46  \n",
       "2       1.0          6.35  \n",
       "3       1.0          5.59  \n",
       "4       1.0          6.88  "
      ]
     },
     "execution_count": 14,
     "metadata": {},
     "output_type": "execute_result"
    }
   ],
   "source": [
    "df_scanner.head()"
   ]
  },
  {
   "cell_type": "code",
   "execution_count": 15,
   "metadata": {},
   "outputs": [],
   "source": [
    "df_scanner.rename(columns={\"Unnamed: 0\":\"Row ID\"},inplace=True)"
   ]
  },
  {
   "cell_type": "code",
   "execution_count": 16,
   "metadata": {},
   "outputs": [
    {
     "data": {
      "text/plain": [
       "Index(['Row ID', 'Date', 'Customer_ID', 'Transaction_ID', 'SKU_Category',\n",
       "       'SKU', 'Quantity', 'Sales_Amount'],\n",
       "      dtype='object')"
      ]
     },
     "execution_count": 16,
     "metadata": {},
     "output_type": "execute_result"
    }
   ],
   "source": [
    "df_scanner.columns"
   ]
  },
  {
   "cell_type": "code",
   "execution_count": 17,
   "metadata": {},
   "outputs": [
    {
     "data": {
      "text/plain": [
       "0"
      ]
     },
     "execution_count": 17,
     "metadata": {},
     "output_type": "execute_result"
    }
   ],
   "source": [
    "# Check for duplicates\n",
    "df_scanner.duplicated().sum()"
   ]
  },
  {
   "cell_type": "code",
   "execution_count": 18,
   "metadata": {},
   "outputs": [
    {
     "data": {
      "text/plain": [
       "Row ID            0\n",
       "Date              0\n",
       "Customer_ID       0\n",
       "Transaction_ID    0\n",
       "SKU_Category      0\n",
       "SKU               0\n",
       "Quantity          0\n",
       "Sales_Amount      0\n",
       "dtype: int64"
      ]
     },
     "execution_count": 18,
     "metadata": {},
     "output_type": "execute_result"
    }
   ],
   "source": [
    "# Check for missing values\n",
    "df_scanner.isnull().sum()"
   ]
  },
  {
   "cell_type": "code",
   "execution_count": 19,
   "metadata": {},
   "outputs": [
    {
     "data": {
      "text/plain": [
       "Row ID              int64\n",
       "Date               object\n",
       "Customer_ID         int64\n",
       "Transaction_ID      int64\n",
       "SKU_Category       object\n",
       "SKU                object\n",
       "Quantity          float64\n",
       "Sales_Amount      float64\n",
       "dtype: object"
      ]
     },
     "execution_count": 19,
     "metadata": {},
     "output_type": "execute_result"
    }
   ],
   "source": [
    "# Check datatypes\n",
    "df_scanner.dtypes"
   ]
  },
  {
   "attachments": {},
   "cell_type": "markdown",
   "metadata": {},
   "source": [
    "The total revenue generated by the store"
   ]
  },
  {
   "cell_type": "code",
   "execution_count": 20,
   "metadata": {},
   "outputs": [],
   "source": [
    "# Function to calculate revenue for a single sale\n",
    "def calculate_revenue(sale):\n",
    "    return sale['Quantity'] * sale['Sales_Amount']"
   ]
  },
  {
   "cell_type": "code",
   "execution_count": 21,
   "metadata": {},
   "outputs": [],
   "source": [
    "# Function to calculate revesales_datanue using multiprocessing:\n",
    "def calculate_total_revenue(sales_data):\n",
    "    # Create a threadpool executor\n",
    "    with concurrent.futures.ThreadPoolExecutor() as executor:\n",
    "        # Submit a calculation job for each sale\n",
    "        results = [executor.submit(calculate_revenue,sale) for i,sale in sales_data.iterrows()]\n",
    "\n",
    "        # Collect the result \n",
    "        revenue_per_sale = [i.result() for i in concurrent.futures.as_completed(results)]\n",
    "\n",
    "    # calculate the total revenue\n",
    "    total_revenue = sum(revenue_per_sale)\n",
    "\n",
    "    return total_revenue"
   ]
  },
  {
   "cell_type": "code",
   "execution_count": 22,
   "metadata": {},
   "outputs": [],
   "source": [
    "# Calling the function to calculate total revenue\n",
    "total_revenue = calculate_total_revenue(df_scanner)"
   ]
  },
  {
   "cell_type": "code",
   "execution_count": 23,
   "metadata": {},
   "outputs": [
    {
     "name": "stdout",
     "output_type": "stream",
     "text": [
      "Total revenue :  2760509.3001500685\n"
     ]
    }
   ],
   "source": [
    "print(\"Total revenue : \", total_revenue)"
   ]
  },
  {
   "attachments": {},
   "cell_type": "markdown",
   "metadata": {},
   "source": [
    "The top 10 customers who have spent the most money at the store."
   ]
  },
  {
   "cell_type": "code",
   "execution_count": 24,
   "metadata": {},
   "outputs": [],
   "source": [
    "from concurrent.futures import ThreadPoolExecutor, as_completed\n",
    "\n",
    "# Calculate spending of a single customer\n",
    "def calculate_spend(cust_sale):\n",
    "    return cust_sale['Quantity'] * cust_sale['Sales_Amount']"
   ]
  },
  {
   "cell_type": "code",
   "execution_count": 25,
   "metadata": {},
   "outputs": [],
   "source": [
    "# Calculate top 10 customer spents concurrently\n",
    "def calculate_top_customers(sales_data):\n",
    "    customer_spending = sales_data.groupby(by='Customer_ID').agg({\"Quantity\" : \"sum\",\n",
    "                                                                  \"Sales_Amount\":\"sum\"}).reset_index()\n",
    "    # customer_spending[\"spending\"] = calculate_spend(customer_spending)\n",
    "\n",
    "\n",
    "    # Create a threadpool executor\n",
    "    with ThreadPoolExecutor() as executor:\n",
    "        futures = [executor.submit(calculate_spend,cust_sales) for i,cust_sales in customer_spending.iterrows()]\n",
    "        customer_spending['spending'] = [future.result() for future in as_completed(futures)]\n",
    "\n",
    "     # Sort the customers and return top 10   \n",
    "    top10 = customer_spending.sort_values(by=\"spending\",ascending=False).head(10)\n",
    "\n",
    "    return top10"
   ]
  },
  {
   "cell_type": "code",
   "execution_count": 26,
   "metadata": {},
   "outputs": [],
   "source": [
    "# Call function\n",
    "top_customers = calculate_top_customers(df_scanner)"
   ]
  },
  {
   "cell_type": "code",
   "execution_count": 27,
   "metadata": {},
   "outputs": [
    {
     "name": "stdout",
     "output_type": "stream",
     "text": [
      "Top 10 customers ID  by spending:\n",
      "       Customer_ID  Quantity  Sales_Amount     spending\n",
      "21414        21415       6.0         22.23  3248142.506\n",
      "9071          9072       4.0         14.56  1566825.275\n",
      "17043        17044       1.0          3.85   936682.974\n",
      "15628        15629       5.0         13.37   777906.250\n",
      "10878        10879      14.0         81.52   641999.280\n",
      "5700          5701       5.0         20.33   533245.680\n",
      "3078          3079       4.0         58.74   508010.400\n",
      "18826        18827      17.0         82.45   490144.900\n",
      "1359          1360       8.0          9.68   485796.620\n",
      "12914        12915      11.0         62.90   480588.965\n"
     ]
    }
   ],
   "source": [
    "# Print the top 10 customers\n",
    "print('Top 10 customers ID  by spending:')\n",
    "print(top_customers)"
   ]
  },
  {
   "attachments": {},
   "cell_type": "markdown",
   "metadata": {},
   "source": [
    "The total number of transactions that have taken place"
   ]
  },
  {
   "cell_type": "code",
   "execution_count": 28,
   "metadata": {},
   "outputs": [],
   "source": [
    "# Function to count the total number of transactions\n",
    "def count_transaction(df):\n",
    "\n",
    "    return df['Transaction_ID'].nunique()\n",
    "    # return len(list(set(df['Transaction_ID'].values.tolist())))"
   ]
  },
  {
   "cell_type": "code",
   "execution_count": 29,
   "metadata": {},
   "outputs": [],
   "source": [
    "# Split the dataframe into chunks\n",
    "chunk_size = len(df_scanner)//4 # Splitting into 4 chunks\n",
    "chunks = [df_scanner[i:i+chunk_size] for i in range(0,len(df_scanner)+1,chunk_size)]\n"
   ]
  },
  {
   "cell_type": "code",
   "execution_count": 30,
   "metadata": {},
   "outputs": [
    {
     "name": "stdout",
     "output_type": "stream",
     "text": [
      "Total number of transactions: 64685\n"
     ]
    }
   ],
   "source": [
    "with ThreadPoolExecutor() as executor:\n",
    "    futures = [executor.submit(count_transaction,chunk) for chunk in chunks]\n",
    "\n",
    "    # Wait for all futures to complete\n",
    "    concurrent.futures.wait(futures)\n",
    "\n",
    "    # Get results and sum them up\n",
    "    total_transactions = sum([future.result() for future in futures])\n",
    "\n",
    "print(\"Total number of transactions:\", total_transactions)"
   ]
  },
  {
   "attachments": {},
   "cell_type": "markdown",
   "metadata": {},
   "source": [
    "The top 10 items that have been sold the most in terms of quantity"
   ]
  },
  {
   "cell_type": "code",
   "execution_count": 65,
   "metadata": {},
   "outputs": [
    {
     "name": "stdout",
     "output_type": "stream",
     "text": [
      "[('CKDW0', 5769.2), ('TD3DD', 3786.0), ('UNJKW', 2179.0), ('EEI1Q', 1568.0), ('MXKDP', 1252.0), ('H8P2L', 1118.0), ('2SVKS', 1113.0), ('CYRX4', 1071.0), ('W1ZMG', 1033.0), ('C6TXL', 1027.0)]\n"
     ]
    }
   ],
   "source": [
    "from collections import defaultdict\n",
    "sku = df_scanner['SKU'].values.tolist()\n",
    "quantity = df_scanner['Quantity'].values.tolist()\n",
    "# create dictionary with concurrent.futures\n",
    "result_dict = defaultdict(list)\n",
    "with ThreadPoolExecutor() as executor:\n",
    "    futures = []\n",
    "    for k, v in zip(sku, quantity):\n",
    "        futures.append(executor.submit(lambda x: result_dict[x[0]].append(x[1]), (k, v)))\n",
    "    wait(futures)\n",
    "\n",
    "# Summing up the values in the list of values\n",
    "result_dict = {k:sum(v) for k, v in result_dict.items()}\n",
    "# Sorting in descending order\n",
    "result_dict = dict(sorted(result_dict.items(), key=lambda x: x[1], reverse=True))\n",
    "# print result\n",
    "print(list(result_dict.items())[0:10])"
   ]
  },
  {
   "cell_type": "code",
   "execution_count": null,
   "metadata": {},
   "outputs": [],
   "source": []
  }
 ],
 "metadata": {
  "kernelspec": {
   "display_name": "mmm",
   "language": "python",
   "name": "python3"
  },
  "language_info": {
   "codemirror_mode": {
    "name": "ipython",
    "version": 3
   },
   "file_extension": ".py",
   "mimetype": "text/x-python",
   "name": "python",
   "nbconvert_exporter": "python",
   "pygments_lexer": "ipython3",
   "version": "3.10.10"
  },
  "orig_nbformat": 4
 },
 "nbformat": 4,
 "nbformat_minor": 2
}
