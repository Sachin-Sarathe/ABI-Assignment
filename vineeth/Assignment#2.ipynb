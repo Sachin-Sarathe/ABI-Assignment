{
 "cells": [
  {
   "cell_type": "markdown",
   "id": "fd67dc1d",
   "metadata": {},
   "source": [
    "<h1 align='center' style=\"color: blue;\">Assignment #2</h1>"
   ]
  },
  {
   "cell_type": "code",
   "execution_count": 1,
   "id": "30716b27",
   "metadata": {},
   "outputs": [],
   "source": [
    "# Student Name: <put your full name here>"
   ]
  },
  {
   "cell_type": "code",
   "execution_count": 47,
   "id": "da4e748b",
   "metadata": {},
   "outputs": [],
   "source": [
    "# Importing Libraries\n",
    "import pandas as pd\n",
    "import numpy as np\n",
    "import matplotlib.pyplot as plt\n",
    "import seaborn as sns\n",
    "from sklearn.preprocessing import MinMaxScaler\n",
    "from sklearn.model_selection import train_test_split\n",
    "from sklearn.linear_model import LogisticRegression\n",
    "from sklearn.naive_bayes import GaussianNB\n",
    "from sklearn.metrics import accuracy_score,confusion_matrix"
   ]
  },
  {
   "attachments": {},
   "cell_type": "markdown",
   "id": "b4a89406",
   "metadata": {},
   "source": [
    "<p><b>Question #1</b>: \n",
    "<ol>\n",
    "    <li>Download the Bank.csv dataset from the Canvas and read it.</li>\n",
    "    <li>Convert Geography and Gender categorical features into dummy variables.</li>\n",
    "    <li>Use min-max normalization to normalize values in CreditScore, Age, Balance, NumOfProducts, EstimatedSalary columns.</li>\n",
    "    <li>Use <u>logistic regression</u> to create a prediction model\n",
    "        <ul>\n",
    "            <li>Use 75% of data for tarining and consider 25% of data for testing. (Use <b style=\"color:red\">random_state=0</b>)</li>\n",
    "            <li>Use all features (including dummy variables) to create your predictive model.</li>\n",
    "            <li><b>Exited</b> is your dependent variable. It shows whether or not the customer left the bank.</li>\n",
    "        </ul>\n",
    "    </li>\n",
    "    <li>Use similar structure as above to create a <u>naive bayes</u> predictive model.</li>\n",
    "    <li>Use in-sample data (train data) and out-of-sample data (test data) to check the accuracy of your naive bayes model:\n",
    "        <ul>\n",
    "            <li>What is the general expectation? should we expect to get higher accuray on in-sample data or out-of-sample data</li>\n",
    "            <li>What is the result in your case?</li>\n",
    "        </ul>\n",
    "    </li>\n",
    "    <li>Visualize the confusion matrix using a heatmap for both logistic regression, and naive bayes.</li>\n",
    "</ol>\n",
    "</p>"
   ]
  },
  {
   "cell_type": "code",
   "execution_count": 4,
   "id": "10ff9b0e",
   "metadata": {},
   "outputs": [],
   "source": [
    "# Write your answer here (part1)\n",
    "df_bank = pd.read_csv(\"Bank.csv\")"
   ]
  },
  {
   "cell_type": "code",
   "execution_count": 5,
   "id": "d1626533",
   "metadata": {},
   "outputs": [],
   "source": [
    "# Write your answer here (part2)\n",
    "df_bank = pd.get_dummies(df_bank,columns = ['Geography','Gender'])"
   ]
  },
  {
   "cell_type": "code",
   "execution_count": 7,
   "id": "75abc3a4",
   "metadata": {},
   "outputs": [],
   "source": [
    "# Write your answer here (part3)\n",
    "scaler = MinMaxScaler()\n",
    "cols_to_scale = [\"CreditScore\", \"Age\", \"Balance\", \"NumOfProducts\", \"EstimatedSalary\"]\n",
    "for i in df_bank.columns:\n",
    "    if i in cols_to_scale:\n",
    "        df_bank[[i]] = scaler.fit_transform(df_bank[[i]])\n",
    "    else :\n",
    "        pass"
   ]
  },
  {
   "attachments": {},
   "cell_type": "markdown",
   "id": "56328338",
   "metadata": {},
   "source": [
    "<b> Dropping the surname column because it is a string and no information has been provided to handle this column."
   ]
  },
  {
   "cell_type": "code",
   "execution_count": 33,
   "id": "8f436c96",
   "metadata": {},
   "outputs": [],
   "source": [
    "df_bank.drop(\"Surname\",axis=1,inplace=True)"
   ]
  },
  {
   "cell_type": "code",
   "execution_count": 34,
   "id": "6b21a7eb",
   "metadata": {},
   "outputs": [
    {
     "data": {
      "text/plain": [
       "Index(['RowNumber', 'CustomerId', 'CreditScore', 'Age', 'Tenure', 'Balance',\n",
       "       'NumOfProducts', 'HasCrCard', 'IsActiveMember', 'EstimatedSalary',\n",
       "       'Exited', 'Geography_France', 'Geography_Germany', 'Geography_Spain',\n",
       "       'Gender_Female', 'Gender_Male'],\n",
       "      dtype='object')"
      ]
     },
     "execution_count": 34,
     "metadata": {},
     "output_type": "execute_result"
    }
   ],
   "source": [
    "df_bank.columns"
   ]
  },
  {
   "cell_type": "code",
   "execution_count": 39,
   "id": "625afa3b",
   "metadata": {},
   "outputs": [],
   "source": [
    "# Write your answer here (part4)\n",
    "X = df_bank.drop(\"Exited\",axis=1)\n",
    "y = df_bank['Exited']\n",
    "\n",
    "\n",
    "X_train,X_test,y_train,y_test = train_test_split(X,y,train_size=0.75,random_state=0)\n",
    "clf_lr = LogisticRegression(random_state=0).fit(X_train,y_train)\n",
    "y_pred = clf_lr.predict(X_test)\n"
   ]
  },
  {
   "cell_type": "code",
   "execution_count": 43,
   "id": "b6332f06",
   "metadata": {},
   "outputs": [],
   "source": [
    "# Write your answer here (part5)\n",
    "\n",
    "clf_nb = GaussianNB().fit(X_train,y_train)\n",
    "y_pred_train_nb = clf_nb.predict(X_train)\n",
    "y_pred_test_nb = clf_nb.predict(X_test)"
   ]
  },
  {
   "cell_type": "code",
   "execution_count": 46,
   "id": "0ed4b67d",
   "metadata": {},
   "outputs": [
    {
     "name": "stdout",
     "output_type": "stream",
     "text": [
      "Accuracy on train data is 79.62666666666667 %\n",
      "Accuracy on test data is 79.64 %\n"
     ]
    }
   ],
   "source": [
    "# Write your answer here (part6)\n",
    "acc_train_data = accuracy_score(y_train,y_pred_train_nb)\n",
    "print(f\"Accuracy on train data is {acc_train_data*100} %\")\n",
    "\n",
    "acc_test_data = accuracy_score(y_test,y_pred_test_nb)\n",
    "print(f\"Accuracy on test data is {acc_test_data*100} %\")"
   ]
  },
  {
   "attachments": {},
   "cell_type": "markdown",
   "id": "1381181b",
   "metadata": {},
   "source": [
    "Accuracy is similar on in-sample data (train data) as well as on out-of-sample data (test data)"
   ]
  },
  {
   "cell_type": "code",
   "execution_count": 55,
   "id": "051029de",
   "metadata": {},
   "outputs": [
    {
     "name": "stdout",
     "output_type": "stream",
     "text": [
      "\n",
      "\n",
      "-------------------- Confusion matrix For Naive Bayes --------------------\n",
      "\n",
      "\n"
     ]
    },
    {
     "data": {
      "image/png": "[encoded data removed]",
      "text/plain": [
       "<Figure size 640x480 with 2 Axes>"
      ]
     },
     "metadata": {},
     "output_type": "display_data"
    },
    {
     "name": "stdout",
     "output_type": "stream",
     "text": [
      "\n",
      "\n",
      "-------------------- Confusion matrix For Logistic regression --------------------\n",
      "\n",
      "\n"
     ]
    },
    {
     "data": {
      "image/png": "[encoded data removed]",
      "text/plain": [
       "<Figure size 640x480 with 2 Axes>"
      ]
     },
     "metadata": {},
     "output_type": "display_data"
    }
   ],
   "source": [
    "# Write your answer here (part7)\n",
    "\n",
    "C = confusion_matrix(y_test, y_pred_test_nb)\n",
    "\n",
    "print('\\n')\n",
    "print(\"-\"*20, \"Confusion matrix For Naive Bayes\", \"-\"*20)\n",
    "print('\\n')\n",
    "# plt.figure(figsize=(20,7))\n",
    "sns.heatmap(C, annot=True, fmt=\".3f\", xticklabels=clf_nb.classes_, yticklabels=clf_nb.classes_)\n",
    "plt.xlabel('Predicted Class')\n",
    "plt.ylabel('Original Class')\n",
    "plt.title(\"Confusion matrix For Naive Bayes\")\n",
    "plt.show()\n",
    "\n",
    "C = confusion_matrix(y_test, y_pred)\n",
    "\n",
    "print('\\n')\n",
    "print(\"-\"*20, \"Confusion matrix For Logistic regression\", \"-\"*20)\n",
    "print('\\n')\n",
    "# plt.figure(figsize=(20,7))\n",
    "sns.heatmap(C, annot=True, cmap=\"YlGnBu\", fmt=\".3f\", xticklabels=clf_lr.classes_, yticklabels=clf_lr.classes_)\n",
    "plt.xlabel('Predicted Class')\n",
    "plt.ylabel('Original Class')\n",
    "plt.title(\"Confusion matrix For Logistic regression\")\n",
    "plt.show()"
   ]
  },
  {
   "cell_type": "markdown",
   "id": "f22c1595",
   "metadata": {},
   "source": [
    "<p><b>Question #2</b>\n",
    "    <ol>\n",
    "        <li>Download the winequality-red.csv dataset from the Canvas and read it.</li>\n",
    "        <li>Use <u>Random Forest</u> to create a prediction model:</li>\n",
    "        <ul>\n",
    "            <li>Use grid search to find the optimal number of trees and maximum depth (try values between 10-100 and 3-10 respectively)</li>\n",
    "            <li>Use 5-fold stratified cross validation in your work.</li> \n",
    "            <li>The dependent variable is the <b>quality</b> of the wine (scored from 0 to 10). </li>\n",
    "            <li>Use all other features as independent variables</li>\n",
    "        </ul>\n",
    "        <li>Perform Additional Data Aanalysis:</li>\n",
    "        <ul>\n",
    "            <li>Use full dataset to create another predictive model using Random Forest(use the best parameters that you found in the previous step)</li>\n",
    "            <li>What is the in-sample prediction accuracy?</li>\n",
    "            <li>Find the feature importance.How you can interpret it</li>\n",
    "        </ul>\n",
    "        <li>Create two predction models using upport Vector Machine (SVM), and K-Nearest Neighbors (KNN):</li>\n",
    "        <ul>\n",
    "            <li>Use 75% of data for tarining and consider 25% of data for testing. (Use <b style=\"color:red\">random_state=0</b>)</li>\n",
    "            <li> Report the out-sample accuracy for all models</li>\n",
    "        </ul>\n",
    "        <li>Compute Precision, Recall, F1 and AUC values for the prediction models in the last step. Which one has the best performance. (Write your logit for selection of the best model)</li>\n",
    "        <li>Draw ROC Curve for SVM model</li>\n",
    "    </ol>\n",
    "            "
   ]
  },
  {
   "cell_type": "code",
   "execution_count": null,
   "id": "719938f2",
   "metadata": {},
   "outputs": [],
   "source": [
    "# Write your answer here (part1)"
   ]
  },
  {
   "cell_type": "code",
   "execution_count": null,
   "id": "783143ae",
   "metadata": {},
   "outputs": [],
   "source": [
    "# Write your answer here (part2)"
   ]
  },
  {
   "cell_type": "code",
   "execution_count": null,
   "id": "23e33fd7",
   "metadata": {},
   "outputs": [],
   "source": [
    "# Write your answer here (part3)"
   ]
  },
  {
   "cell_type": "code",
   "execution_count": null,
   "id": "c0f3294a",
   "metadata": {},
   "outputs": [],
   "source": [
    "# Write your answer here (part4)"
   ]
  },
  {
   "cell_type": "code",
   "execution_count": null,
   "id": "417b1338",
   "metadata": {},
   "outputs": [],
   "source": [
    "# Write your answer here (part5)"
   ]
  },
  {
   "cell_type": "code",
   "execution_count": null,
   "id": "77ff6052",
   "metadata": {},
   "outputs": [],
   "source": [
    "# Write your answer here (part6)"
   ]
  },
  {
   "cell_type": "markdown",
   "id": "92de061f",
   "metadata": {},
   "source": [
    "<p><b>Question #3</b>\n",
    "    <ol>\n",
    "        <li>Download the Real_estate.csv dataset from the Canvas and read it.</li>\n",
    "        <li>Perform explonatory linear regression using statsmodels package and create visualizations to analyze the relationships between all variables.</li>\n",
    "        <ul>\n",
    "        <li><b>Price of unit area</b> is your target variable.</li>\n",
    "            <li>Which factors are significant at .05 level in your model?</li>\n",
    "            <li>What is the $R^2$ for your model? What does $R^2$ mean in this analysis?</li>\n",
    "        </ul>\n",
    "            <li>Use linear regression to create a predictive model.</li>\n",
    "        <ul>\n",
    "             <li><b>Price of unit area</b> is your target variable.</li>\n",
    "            <li>Use 70% of data for training and consider 30% of data for testing. (Use random_state=0)</li>\n",
    "            <li>Use all features to create you predictive model.</li>\n",
    "             <li> Compute $R^2$ for both in-sample(train data) and out-of-sample (test data) data. Which one is higher? What was your expectation?</li> \n",
    "    <li> Compute MSE for both in-sample (train data) and out-of-sample (test data) data. Which one is higher? What was your expectation?</li></ul>\n",
    "<li>Perform principal component analysis (PCA) to reduce the dimensions of the dataset.</li>\n",
    "        <ul>\n",
    "        <li>Retain the top two principal components. Plot the data points in a two-dimensional plot based on the two principal components.</li>\n",
    "            <li>Use 70% of data for training and consider 30% of data for testing. (Use random_state=0)</li>\n",
    "            <li>Use the top two principal components as features to create your predictive model.</li>\n",
    "             <li><b>Price of unit area</b> is your target variable.</li>\n",
    "    <li> Compute MSE for both in-sample (train data) and out-of-sample (test data) data. Which one is higher? What was your expectation?</li></ul>\n",
    "            "
   ]
  },
  {
   "cell_type": "code",
   "execution_count": null,
   "id": "b859b56c",
   "metadata": {},
   "outputs": [],
   "source": [
    "# Write your answer here (part1)"
   ]
  },
  {
   "cell_type": "code",
   "execution_count": null,
   "id": "71cd268f",
   "metadata": {},
   "outputs": [],
   "source": [
    "# Write your answer here (part2)"
   ]
  },
  {
   "cell_type": "code",
   "execution_count": null,
   "id": "76d3baee",
   "metadata": {},
   "outputs": [],
   "source": [
    "# Write your answer here (part3)"
   ]
  },
  {
   "cell_type": "code",
   "execution_count": null,
   "id": "fc5b4170",
   "metadata": {},
   "outputs": [],
   "source": [
    "# Write your answer here (part4)"
   ]
  },
  {
   "cell_type": "markdown",
   "id": "bc063ade",
   "metadata": {},
   "source": [
    "<p><b>Question #4</b>: The following code download images of top 200 players (<u>Download Fifa Data from Canvas</u>)"
   ]
  },
  {
   "cell_type": "code",
   "execution_count": null,
   "id": "18c9d431",
   "metadata": {
    "scrolled": true
   },
   "outputs": [],
   "source": [
    "from PIL import Image\n",
    "import requests\n",
    "from io import BytesIO\n",
    "import pandas as pd\n",
    "import numpy as np\n",
    "import matplotlib.pyplot as plt\n",
    "\n",
    "\n",
    "def read_image(url):\n",
    "    response = requests.get(url)\n",
    "    img = np.array(Image.open(BytesIO(response.content)).convert('RGBA'))\n",
    "    return img\n",
    "\n",
    "FIFA23 = pd.read_csv(\"Fifa23/data.csv\")\n",
    "TOP_300_Players = FIFA23.sort_values(by = ['Overall'], ascending=False)[:300].reset_index()\n",
    "\n",
    "fig, ax = plt.subplots(5, 5, figsize=(10, 10))\n",
    "for i, axi in enumerate(ax.flat):\n",
    "    url = TOP_300_Players.loc[i,'Photo']\n",
    "    img = read_image(url)\n",
    "    axi.imshow(img)\n",
    "    axi.set_title(TOP_300_Players.loc[i,'Name'])\n",
    "    axi.set(xticks=[], yticks=[])"
   ]
  },
  {
   "cell_type": "code",
   "execution_count": null,
   "id": "ea824998",
   "metadata": {},
   "outputs": [],
   "source": [
    "images =np.array([read_image(url) for url in TOP_300_Players.Photo])\n",
    "player_names = np.array([Name for Name in TOP_300_Players.Name])\n",
    "data = np.array([image.reshape(60*60*4) for image in images])"
   ]
  },
  {
   "cell_type": "markdown",
   "id": "2348fe0d",
   "metadata": {},
   "source": [
    "Here is some description about data\n",
    "<ul>\n",
    "    <li>images: contains 300 images of players. images.shape = (300, 60, 60, 4)</li> \n",
    "    <li>player_names: contains 300 names of players. player_names.shape = (300,)</li>\n",
    "    <li>data: contains flatten version of images. data.shape = (300, 14400)</li>\n",
    "</ul>"
   ]
  },
  {
   "cell_type": "markdown",
   "id": "4ac45ac0",
   "metadata": {},
   "source": [
    "You need to cluster the images using K-Means algorithm\n",
    "<ol>\n",
    "    <li>Use PCA method to reduce the number of dimensions to 300.</li>\n",
    "    <li>Find the best number of clusters using elbow method.</li>\n",
    "    <li>Find the best number of clusters using silhouette method.</li>\n",
    "    <li>Cluster images using an optimal number of clusters</li>\n",
    "    <li>Visualize the center of clusters (<b>Tip</b>: to perform this part for each cluster, find the average of all the pixels of the images in the cluster.)</li>\n",
    "    <li>Show sample of images in each cluster</li>\n",
    "    <li>How can you interpret the result of clustering</li>\n",
    "</ol>"
   ]
  },
  {
   "cell_type": "code",
   "execution_count": null,
   "id": "a24e7fe4",
   "metadata": {},
   "outputs": [],
   "source": [
    "# Write your answer here (part1)"
   ]
  },
  {
   "cell_type": "code",
   "execution_count": null,
   "id": "e57404ae",
   "metadata": {},
   "outputs": [],
   "source": [
    "# Write your answer here (part2)"
   ]
  },
  {
   "cell_type": "code",
   "execution_count": null,
   "id": "35751421",
   "metadata": {},
   "outputs": [],
   "source": [
    "# Write your answer here (part3)"
   ]
  },
  {
   "cell_type": "code",
   "execution_count": null,
   "id": "114ec2c2",
   "metadata": {},
   "outputs": [],
   "source": [
    "# Write your answer here (part4)"
   ]
  },
  {
   "cell_type": "code",
   "execution_count": null,
   "id": "af55787e",
   "metadata": {},
   "outputs": [],
   "source": [
    "# Write your answer here (part5)"
   ]
  },
  {
   "cell_type": "code",
   "execution_count": null,
   "id": "f766db0c",
   "metadata": {},
   "outputs": [],
   "source": [
    "# Write your answer here (part6)"
   ]
  },
  {
   "cell_type": "code",
   "execution_count": null,
   "id": "a6f8a19e",
   "metadata": {},
   "outputs": [],
   "source": [
    "# Write your answer here (part7)"
   ]
  },
  {
   "cell_type": "markdown",
   "id": "7dabe336",
   "metadata": {},
   "source": [
    "<p><b>Question #5</b>:\n",
    "<ol>\n",
    "    <li>Download the telecom_churn dataset and read it.</li>\n",
    "    <li>Convert categorical features into dummy variables.\n",
    "        <ul>\n",
    "            <li>If it is necassary, delete the original categorical features columns after the generation dummy variables. </li>\n",
    "        </ul>\n",
    "    </li>\n",
    "    <li>Use mean normalization ($\\frac{X-\\mu}{\\sigma}$) to normalize values in <b>total day minutes</b>, <b>total eve minutes</b>, <b>total night minutes</b> and <b>total intl minutes</b> columns.</li>\n",
    "    <li>Use KNN to create three predictive models  (1. with 5 neighbors, 2. with 7 neighbors, 3. with 10 neighbors).\n",
    "    <ul>\n",
    "        <li>Use 80% of data for training and consider 20% of data for testing.(Use <b style=\"color:red\">random_state=0</b>)</li>\n",
    "        <li>Use the <b style='color:red'>stratify</b> attribute in your split.</li> \n",
    "        <li>Use all the features (including dummy variables) to create you predictive model.</li>\n",
    "        <li><b>\"churn\"</b> is your dependent variable.</li> \n",
    "    </ul>\n",
    "    </li>\n",
    "    <li>Find the accuracy of your models using out-of-sample data (test data). Which model has the highest accuracy? </li>\n",
    "    <li>Use KNN with 4 neighbors to create a new predictive model.\n",
    "    <ul>\n",
    "        <li>Use whole dataset for training.</li>\n",
    "        <li>Use <b>\"total day minutes\"</b> and <b>\"total eve minutes\"</b> features as your independent variables.</li>\n",
    "        <li><b>\"churn\"</b> is your dependent variable.</li> \n",
    "    </ul>\n",
    "    </li>\n",
    "    <li>Visualize the decision boundary of your model.</li>\n",
    "</ol>\n",
    "\n",
    "</p> "
   ]
  },
  {
   "cell_type": "code",
   "execution_count": null,
   "id": "306fb8aa",
   "metadata": {},
   "outputs": [],
   "source": [
    "# Write your answer here (part1)"
   ]
  },
  {
   "cell_type": "code",
   "execution_count": null,
   "id": "7b4a3293",
   "metadata": {},
   "outputs": [],
   "source": [
    "# Write your answer here (part2)"
   ]
  },
  {
   "cell_type": "code",
   "execution_count": null,
   "id": "6aa0a04c",
   "metadata": {},
   "outputs": [],
   "source": [
    "# Write your answer here (part3)"
   ]
  },
  {
   "cell_type": "code",
   "execution_count": null,
   "id": "e94d8a35",
   "metadata": {},
   "outputs": [],
   "source": [
    "# Write your answer here (part4)"
   ]
  },
  {
   "cell_type": "code",
   "execution_count": null,
   "id": "b2a32dfc",
   "metadata": {},
   "outputs": [],
   "source": [
    "# Write your answer here (part5)"
   ]
  },
  {
   "cell_type": "code",
   "execution_count": null,
   "id": "45f891f4",
   "metadata": {},
   "outputs": [],
   "source": [
    "# Write your answer here (part6)"
   ]
  },
  {
   "cell_type": "code",
   "execution_count": null,
   "id": "3c9f8996",
   "metadata": {},
   "outputs": [],
   "source": [
    "# Write your answer here (part7)"
   ]
  },
  {
   "attachments": {},
   "cell_type": "markdown",
   "id": "0e9dadc2",
   "metadata": {},
   "source": [
    "<p><b>Output</b>: \n",
    "    <ul>\n",
    "        <li>You need to provide answers in the designated cell for each question (don't delete the existing comments in the cells).</li>\n",
    "        <li>You need to make sure that your final file contains both codes and results (don't clear the outputs).</li>\n",
    "        <li>Save your file in the .ipynb format (as it is right now).</li>\n",
    "        <li>Upload your file into Canvas (Assignment #2)</li>\n",
    "        <li>I will not accept any submission by email or any other method, so make sure that you submit the file in a right place at a right time.</li>\n",
    "        </ul>\n",
    "        </p> "
   ]
  }
 ],
 "metadata": {
  "kernelspec": {
   "display_name": "Python 3 (ipykernel)",
   "language": "python",
   "name": "python3"
  },
  "language_info": {
   "codemirror_mode": {
    "name": "ipython",
    "version": 3
   },
   "file_extension": ".py",
   "mimetype": "text/x-python",
   "name": "python",
   "nbconvert_exporter": "python",
   "pygments_lexer": "ipython3",
   "version": "3.10.10"
  }
 },
 "nbformat": 4,
 "nbformat_minor": 5
}
